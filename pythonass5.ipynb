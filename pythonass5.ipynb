{
 "cells": [
  {
   "cell_type": "code",
   "execution_count": 1,
   "metadata": {},
   "outputs": [
    {
     "name": "stdout",
     "output_type": "stream",
     "text": [
      "Enter Value to find Factorial:7\n",
      "Factorial of a 7 = 5040\n"
     ]
    }
   ],
   "source": [
    "# Write a Python function to calculate the factorial of a number (a non-negative integer). The function accepts the number as an argument.\n",
    "num= input(\"Enter Value to find Factorial:\");\n",
    "num=int(num);\n",
    "def Factorial(num):\n",
    "    f=1;\n",
    "    if num<1:\n",
    "        print(\"Enter Positive integer\");\n",
    "    elif num>=1:\n",
    "        for i in range(1,num+1):\n",
    "            f=f*i;\n",
    "        print(\"Factorial of a\", num , \"=\", f);\n",
    "    else:\n",
    "        print(\"input value is invalid\");\n",
    "Factorial(num)"
   ]
  },
  {
   "cell_type": "code",
   "execution_count": 2,
   "metadata": {},
   "outputs": [
    {
     "name": "stdout",
     "output_type": "stream",
     "text": [
      "Original String :  AffaN AhMed DaHAr\n",
      "No. of Upper case characters :  7\n",
      "No. of Lower case Characters :  8\n"
     ]
    }
   ],
   "source": [
    "# Write a Python function that accepts a string and calculate the number of upper case letters and lower case letters.\n",
    "def string_test(s):\n",
    "    d={\"UPPER_CASE\":0, \"LOWER_CASE\":0}\n",
    "    for c in s:\n",
    "        if c.isupper():\n",
    "           d[\"UPPER_CASE\"]+=1\n",
    "        elif c.islower():\n",
    "           d[\"LOWER_CASE\"]+=1\n",
    "        else:\n",
    "           pass\n",
    "    print (\"Original String : \", s)\n",
    "    print (\"No. of Upper case characters : \", d[\"UPPER_CASE\"])\n",
    "    print (\"No. of Lower case Characters : \", d[\"LOWER_CASE\"])\n",
    "\n",
    "string_test('AffaN AhMed DaHAr')"
   ]
  },
  {
   "cell_type": "code",
   "execution_count": 3,
   "metadata": {},
   "outputs": [
    {
     "name": "stdout",
     "output_type": "stream",
     "text": [
      "20 66 30 40 70 20 "
     ]
    }
   ],
   "source": [
    "# Python program to print Even Numbers in a List \n",
    "\n",
    "# list of numbers \n",
    "list1 = [20, 21, 41, 45, 66, 23,30,40,70,20,65,75] \n",
    "\n",
    "# iterating each number in list \n",
    "for num in list1: \n",
    "    \n",
    "    # checking condition \n",
    "    if num % 2 == 0: \n",
    "        print(num, end = \" \")"
   ]
  },
  {
   "cell_type": "code",
   "execution_count": 7,
   "metadata": {},
   "outputs": [],
   "source": [
    "# Write a Python function that checks whether a passed string is palindrome or not. Note: A palindrome is a word, phrase, or sequence that reads the same backward as forward, e.g., madam\n",
    "def palindrome(msg):\n",
    "    a = msg[::-1]\n",
    "    if a == msg:\n",
    "        print(\"The given string is Palindrome\")\n",
    "    else:\n",
    "        print(\"The given string is not Palindrome\")"
   ]
  },
  {
   "cell_type": "code",
   "execution_count": 8,
   "metadata": {},
   "outputs": [
    {
     "name": "stdout",
     "output_type": "stream",
     "text": [
      "The given string is Palindrome\n"
     ]
    }
   ],
   "source": [
    "palindrome(\"madam\")"
   ]
  },
  {
   "cell_type": "code",
   "execution_count": 9,
   "metadata": {},
   "outputs": [
    {
     "name": "stdout",
     "output_type": "stream",
     "text": [
      "The given string is not Palindrome\n"
     ]
    }
   ],
   "source": [
    "palindrome(\"sir\")"
   ]
  },
  {
   "cell_type": "code",
   "execution_count": 16,
   "metadata": {},
   "outputs": [
    {
     "name": "stdout",
     "output_type": "stream",
     "text": [
      "Enter number to check it's prime or not: 7\n",
      "7 is a prime number \n"
     ]
    }
   ],
   "source": [
    "# Write a Python function that takes a number as a parameter and check the number is prime or not\n",
    "num = int(input(\"Enter number to check it's prime or not: \"));\n",
    "def checkPrime(num):\n",
    "    if num>1:\n",
    "        for i in range(2,num//2):\n",
    "            if(num % i)==0:\n",
    "                print(num, \" is not a prime\");\n",
    "                break;\n",
    "            else:\n",
    "                print(num, \"is a prime number \");\n",
    "    else:\n",
    "        print(num, \"is not a prime number\");\n",
    "\n",
    "checkPrime(num);"
   ]
  },
  {
   "cell_type": "code",
   "execution_count": 17,
   "metadata": {},
   "outputs": [
    {
     "name": "stdout",
     "output_type": "stream",
     "text": [
      "User bought following items for market:\n",
      "Rice, Eggs, Chicken, Bread, Honey, Apples, Oranges, "
     ]
    }
   ],
   "source": [
    "# Suppose a customer is shopping in a market and you need to print all the items which user bought from market. Write a function which accepts the multiple arguments of user shopping list and print all the items which user bought from market.\n",
    "def shoplist(*items):\n",
    "    print(\"User bought following items for market:\")\n",
    "    for i in items:\n",
    "        print(i, end = \", \")\n",
    "shoplist(\"Rice\",\"Eggs\",\"Chicken\",\"Bread\",\"Honey\",\"Apples\",\"Oranges\")"
   ]
  },
  {
   "cell_type": "code",
   "execution_count": null,
   "metadata": {},
   "outputs": [],
   "source": []
  }
 ],
 "metadata": {
  "kernelspec": {
   "display_name": "Python 3",
   "language": "python",
   "name": "python3"
  },
  "language_info": {
   "codemirror_mode": {
    "name": "ipython",
    "version": 3
   },
   "file_extension": ".py",
   "mimetype": "text/x-python",
   "name": "python",
   "nbconvert_exporter": "python",
   "pygments_lexer": "ipython3",
   "version": "3.7.4"
  }
 },
 "nbformat": 4,
 "nbformat_minor": 2
}
