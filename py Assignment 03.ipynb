{
 "cells": [
  {
   "cell_type": "code",
   "execution_count": 2,
   "metadata": {},
   "outputs": [
    {
     "name": "stdout",
     "output_type": "stream",
     "text": [
      "Please select operation -\n",
      "1. Add\n",
      "2. Subtract\n",
      "3. Multiply\n",
      "4. Divide\n",
      "5. Power\n",
      "\n",
      "Select operations form 1, 2, 3, 4, 5 :5\n",
      "Enter first number: 5\n",
      "Enter second number: 3\n",
      "5 ** 3 = 125\n"
     ]
    }
   ],
   "source": [
    "#Question 01\n",
    "\n",
    "def add(num1, num2): \n",
    "\treturn num1 + num2 \n",
    "\n",
    "def subtract(num1, num2): \n",
    "\treturn num1 - num2 \n",
    "\n",
    "def multiply(num1, num2): \n",
    "\treturn num1 * num2 \n",
    "\n",
    "def divide(num1, num2): \n",
    "\treturn num1 / num2 \n",
    "\n",
    "def power(num1, num2): \n",
    "\treturn num1 ** num2 \n",
    "\n",
    "\n",
    "print(\"Please select operation -\\n\"\n",
    "\t\t\"1. Add\\n\" \n",
    "\t\t\"2. Subtract\\n\" \n",
    "\t\t\"3. Multiply\\n\" \n",
    "\t\t\"4. Divide\\n\"\n",
    "        \"5. Power\\n\") \n",
    "\n",
    "select = input(\"Select operations form 1, 2, 3, 4, 5 :\") \n",
    "\n",
    "number_1 = int(input(\"Enter first number: \")) \n",
    "number_2 = int(input(\"Enter second number: \")) \n",
    "\n",
    "if select == '1': \n",
    "\tprint(number_1, \"+\", number_2, \"=\", \n",
    "\t\t\t\t\tadd(number_1, number_2)) \n",
    "\n",
    "elif select == '2': \n",
    "\tprint(number_1, \"-\", number_2, \"=\", \n",
    "\t\t\t\t\tsubtract(number_1, number_2)) \n",
    "\n",
    "elif select == '3': \n",
    "\tprint(number_1, \"*\", number_2, \"=\", \n",
    "\t\t\t\t\tmultiply(number_1, number_2)) \n",
    "\n",
    "elif select == '4': \n",
    "\tprint(number_1, \"/\", number_2, \"=\", \n",
    "\t\t\t\t\tdivide(number_1, number_2)) \n",
    "    \n",
    "elif select == '5': \n",
    "\tprint(number_1, \"**\", number_2, \"=\", \n",
    "\t\t\t\t\tpower(number_1, number_2)) \n",
    "\n",
    "else: \n",
    "\tprint(\"Invalid input\") \n"
   ]
  },
  {
   "cell_type": "code",
   "execution_count": 3,
   "metadata": {},
   "outputs": [
    {
     "name": "stdout",
     "output_type": "stream",
     "text": [
      "Numeric Value find in list:  5\n",
      "Numeric Value find in list:  21\n",
      "Numeric Value find in list:  55\n",
      "Numeric Value find in list:  64\n"
     ]
    }
   ],
   "source": [
    "#Question 02\n",
    "\n",
    "mylist = [\"fizza\", 5, \"zubair\", 21, 55, \"python\", 64, \"Pakistan\"]\n",
    "x = 0\n",
    "num = type(x)\n",
    "for i in mylist:\n",
    "    m = type(i)\n",
    "    if m == num:\n",
    "        print(\"Numeric Value find in list: \",i)\n",
    "    else:\n",
    "        continue\n"
   ]
  },
  {
   "cell_type": "code",
   "execution_count": 4,
   "metadata": {},
   "outputs": [
    {
     "data": {
      "text/plain": [
       "{'a': 100, 'b': 200, 'c': 300, 'd': 400}"
      ]
     },
     "execution_count": 4,
     "metadata": {},
     "output_type": "execute_result"
    }
   ],
   "source": [
    "#Question 03\n",
    "\n",
    "dict = {'a': 100, 'b':200, 'c':300}\n",
    "\n",
    "dict[\"d\"] = 400  \n",
    "\n",
    "dict"
   ]
  },
  {
   "cell_type": "code",
   "execution_count": 5,
   "metadata": {},
   "outputs": [
    {
     "name": "stdout",
     "output_type": "stream",
     "text": [
      "Sum of Numeric Items is:  1000\n"
     ]
    }
   ],
   "source": [
    "#Question 04\n",
    "\n",
    "dict = {'a': 100, 'b':200, 'c':300, 'd':400 }\n",
    "\n",
    "x = sum(dict.values())\n",
    "\n",
    "print(\"Sum of Numeric Items is: \",x)\n"
   ]
  },
  {
   "cell_type": "code",
   "execution_count": 19,
   "metadata": {},
   "outputs": [
    {
     "name": "stdout",
     "output_type": "stream",
     "text": [
      "Duplicate Values are :  [33, 88, 'hello']\n"
     ]
    }
   ],
   "source": [
    "#Question 05\n",
    "\n",
    "list = [10,33,67,88,66,\"fizza\",44,33,\"hello\",88,11,45,\"hello\",\"Karachi\"]\n",
    "duplicated = []\n",
    "\n",
    "for i in list:\n",
    "    a = list.count(i)\n",
    "    if a > 1:\n",
    "        if i in duplicated:\n",
    "            continue\n",
    "        else:\n",
    "            duplicated.append(i)\n",
    "            \n",
    "print(\"Duplicate Values are : \",duplicated)\n",
    "\n"
   ]
  },
  {
   "cell_type": "code",
   "execution_count": 13,
   "metadata": {},
   "outputs": [
    {
     "name": "stdout",
     "output_type": "stream",
     "text": [
      "Enter key to check existence: age\n",
      "The key : age Is Not Exist\n"
     ]
    }
   ],
   "source": [
    "#Question 06\n",
    "\n",
    "dict = {'Name': 'fizza', 'Rollno': '125', 'Course': 'Python',\n",
    "        'City': 'Karachi', 'Country': 'Pakistan'}\n",
    "\n",
    "key_to_check = input(\"Enter key to check existence: \")\n",
    "if key_to_check in dict.keys():\n",
    "    print(\"The key : \" + key_to_check + \" Is Already Exist\")\n",
    "else:\n",
    "    print(\"The key : \" + key_to_check + \" Is Not Exist\")"
   ]
  },
  {
   "cell_type": "code",
   "execution_count": 11,
   "metadata": {},
   "outputs": [
    {
     "ename": "NameError",
     "evalue": "name 'a' is not defined",
     "output_type": "error",
     "traceback": [
      "\u001b[1;31m---------------------------------------------------------------------------\u001b[0m",
      "\u001b[1;31mNameError\u001b[0m                                 Traceback (most recent call last)",
      "\u001b[1;32m<ipython-input-11-3f786850e387>\u001b[0m in \u001b[0;36m<module>\u001b[1;34m\u001b[0m\n\u001b[1;32m----> 1\u001b[1;33m \u001b[0ma\u001b[0m\u001b[1;33m\u001b[0m\u001b[1;33m\u001b[0m\u001b[0m\n\u001b[0m",
      "\u001b[1;31mNameError\u001b[0m: name 'a' is not defined"
     ]
    }
   ],
   "source": []
  },
  {
   "cell_type": "code",
   "execution_count": null,
   "metadata": {},
   "outputs": [],
   "source": []
  }
 ],
 "metadata": {
  "kernelspec": {
   "display_name": "Python 3",
   "language": "python",
   "name": "python3"
  },
  "language_info": {
   "codemirror_mode": {
    "name": "ipython",
    "version": 3
   },
   "file_extension": ".py",
   "mimetype": "text/x-python",
   "name": "python",
   "nbconvert_exporter": "python",
   "pygments_lexer": "ipython3",
   "version": "3.7.4"
  }
 },
 "nbformat": 4,
 "nbformat_minor": 2
}
