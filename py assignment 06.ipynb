{
 "cells": [
  {
   "cell_type": "code",
   "execution_count": null,
   "metadata": {},
   "outputs": [],
   "source": [
    "#QUESTION 01:\n",
    "\n",
    "Object-oriented programming language is a high-level computer programming language that implements objects and their associated procedures within the programming context to create software programs.\n",
    "\n",
    "Object-oriented language uses an object-oriented programming technique that binds related data and functions into an object and encourages reuse of these objects within the same and other programs.\n",
    "\n",
    "OOP features include the following:\n",
    "\n",
    "1.Encapsulation: This makes the program structure easier to manage because each object’s implementation and state are hidden behind well-defined boundaries.\n",
    "2.Polymorphism: This means abstract entities are implemented in multiple ways.\n",
    "3.Inheritance: This refers to the hierarchical arrangement of implementation fragments."
   ]
  },
  {
   "cell_type": "code",
   "execution_count": null,
   "metadata": {},
   "outputs": [],
   "source": [
    "#QUESTION 02:\n",
    "\n",
    "Object-oriented programming allows for simplified programming. Its benefits include:\n",
    "\n",
    "1.Reusability.\n",
    "2.Refactoring.\n",
    "3.Extensibility.\n",
    "4.Maintenance.\n",
    "5.Efficiency.\n"
   ]
  },
  {
   "cell_type": "code",
   "execution_count": null,
   "metadata": {},
   "outputs": [],
   "source": [
    "#QUESTION  03:\n",
    "\n",
    "METHOD:\n",
    "1.Method is called by its name, but it is associated to an object (dependent).\n",
    "2.A method is implicitly passed the object on which it is invoked.\n",
    "3.It may or may not return any data.\n",
    "4.A method can operate on the data (instance variables) that is contained by the corresponding class.\n",
    "\n",
    "FUNCTION:\n",
    "1.Simply, function and method both look similar as they perform in almost similar way, but the key difference is the concept of ‘Class and its Object‘.\n",
    "2.Functions can be called only by its name, as it is defined independently. But methods can’t be called by its name only, we need to invoke the class by a reference of that class in which it is defined, i.e. method is defined within a class and hence they are dependent on that class.\n"
   ]
  },
  {
   "cell_type": "code",
   "execution_count": null,
   "metadata": {},
   "outputs": [],
   "source": [
    "#QUESTION 04:\n",
    "\n",
    "CLASS:\n",
    "Classes are templates used in object-oriented programming to create objects, which are instances of that class. They are useful for organizing related variables and functions.\n",
    "\n",
    "OBJECT:\n",
    "Objects are the things you think about first in designing a program and they are also the units of code that are eventually derived from the process. \n",
    "In between, each object is made into a generic class of object and even more generic classes are defined so that objects can share models and reuse the class definitions in their code. \n",
    "Each object is an instance of a particular class or subclass with the class's own methods or procedures and data variables. An object is what actually runs in the computer.\n",
    "\n",
    "ATTRIBUTE:\n",
    "An attribute is a specification that defines a property of an object, element, or file. It may also refer to or set the specific value for a given instance of such.\n",
    "For clarity, attributes should more correctly be considered metadata.\n",
    "\n",
    "BEHAVIOR:\n",
    "The behavior of an object is defined by its methods, which are the functions and subroutines defined within the object class. \n",
    "Without class methods, a class would simply be a structure.\n",
    "\n",
    "\n",
    "\n"
   ]
  },
  {
   "cell_type": "code",
   "execution_count": 1,
   "metadata": {},
   "outputs": [],
   "source": [
    "#QUESTION 05\n",
    "\n",
    "class car():\n",
    "    \n",
    "    # create class attributes\n",
    "    def __init__(self, company, name, model, color, mileage):\n",
    "        self.company = company\n",
    "        self.name = name\n",
    "        self.model = model\n",
    "        self.color = color\n",
    "        self.mileage = mileage\n",
    "        \n",
    "    # create class methods\n",
    "    def info(self):\n",
    "        print (\"Company :\",self.company)\n",
    "        print (\"Name :\",self.name)\n",
    "        print (\"Model :\",self.model)\n",
    "        print (\"Color :\",self.color)\n",
    "        print (\"Mileage :\",self.mileage)\n",
    "    \n",
    "    def start(self):\n",
    "        print (\"Engine started\")\n",
    "        \n",
    "    def stop(self):\n",
    "        print (\"Engine switched off\")\n",
    "\n"
   ]
  },
  {
   "cell_type": "code",
   "execution_count": null,
   "metadata": {},
   "outputs": [],
   "source": [
    "car1 = car(\"Honda\",\"City\",\"2019\",\"Black\",\"40 km/l\")"
   ]
  },
  {
   "cell_type": "code",
   "execution_count": null,
   "metadata": {},
   "outputs": [],
   "source": [
    "car2 = car(\"Honda\",\"Suzuki\",\"2017\",\"White\",\"30 km/l\")"
   ]
  },
  {
   "cell_type": "code",
   "execution_count": null,
   "metadata": {},
   "outputs": [],
   "source": [
    "car3 = car(\"Toyota\",\"Corolla\",\"2019\",\"Golden\",\"50 km/l\")"
   ]
  },
  {
   "cell_type": "code",
   "execution_count": null,
   "metadata": {},
   "outputs": [],
   "source": [
    "car4 = car(\"Toyota\",\"Corolla\",\"2017\",\"White\",\"40 km/l\")"
   ]
  },
  {
   "cell_type": "code",
   "execution_count": null,
   "metadata": {},
   "outputs": [],
   "source": [
    "car5 = car(\"Honda\",\"Civic\",\"2017\",\"White\",\"30 km/l\")"
   ]
  }
 ],
 "metadata": {
  "kernelspec": {
   "display_name": "Python 3",
   "language": "python",
   "name": "python3"
  },
  "language_info": {
   "codemirror_mode": {
    "name": "ipython",
    "version": 3
   },
   "file_extension": ".py",
   "mimetype": "text/x-python",
   "name": "python",
   "nbconvert_exporter": "python",
   "pygments_lexer": "ipython3",
   "version": "3.7.4"
  }
 },
 "nbformat": 4,
 "nbformat_minor": 2
}
